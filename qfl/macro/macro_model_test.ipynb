{
 "cells": [
  {
   "cell_type": "code",
   "execution_count": 1,
   "metadata": {
    "collapsed": true
   },
   "outputs": [],
   "source": [
    "import pandas as pd\n",
    "import numpy as np\n",
    "import datetime as dt\n",
    "from dateutil.relativedelta import relativedelta\n",
    "from pandas_datareader import data as pdata\n",
    "import matplotlib.pyplot as plt\n",
    "from sklearn.decomposition import PCA, FactorAnalysis\n",
    "# import BasicUtilities as bu\n",
    "from scipy import interpolate\n",
    "import scipy.stats as st\n",
    "import scipy.signal\n",
    "from mpl_toolkits.mplot3d import Axes3D\n",
    "import matplotlib.ticker as mtick\n",
    "from matplotlib import cm\n",
    "from matplotlib.ticker import LinearLocator, FormatStrFormatter\n",
    "import statsmodels.api as sm\n",
    "import qfl.utilities.BasicUtilities as bu\n",
    "%matplotlib inline"
   ]
  },
  {
   "cell_type": "code",
   "execution_count": 2,
   "metadata": {
    "collapsed": true
   },
   "outputs": [],
   "source": [
    "volatilityIndicator = 'Volatility252'\n",
    "volatilityWindow = 252\n",
    "macroIndicatorMaWindow = 6\n",
    "macroIndicatorHalflife = 3\n",
    "emMacroIndicatorHalflife = 1\n",
    "startDateStr = '1/1/1956'\n",
    "startDate = dt.datetime(1966, 1, 1)\n",
    "exclude87 = False\n",
    "excludeStartDate = dt.datetime(1987, 10, 19)\n",
    "excludeEndDate = dt.datetime(1987, 10, 21)\n",
    "levelGridMin = -5\n",
    "levelGridMax = 2\n",
    "changeGridMin = -3\n",
    "changeGridMax = 3\n",
    "timeWeightParameter = 50\n",
    "simulationStartDate = dt.datetime(2015, 1, 1) \n",
    "troughs = [0.5, 3.0, 5.0]\n",
    "lengths = [12.0, 15.0, 18.0]\n",
    "simPeriods = 12\n",
    "phase = 2.5"
   ]
  },
  {
   "cell_type": "code",
   "execution_count": 3,
   "metadata": {
    "collapsed": false
   },
   "outputs": [],
   "source": [
    "##############################################################################\n",
    "# Macro model\n",
    "##############################################################################\n",
    "\n",
    "macroStartDate = dt.datetime(1980, 1, 1)\n",
    "\n",
    "config_filename = 'qfl/macro/macro_model_cfg.csv'\n",
    "config_table = pd.read_csv(config_filename)\n",
    "\n",
    "dataFields = config_table['FRED_CODE'].tolist()\n",
    "dataFieldNames = config_table['SERIES_NAME'].tolist()\n",
    "\n",
    "useLog = config_table['USE_LOG'].tolist()\n",
    "maLength = config_table['MA_LENGTH'].tolist()\n",
    "divGdp = config_table['DIV_GDP'].tolist()\n",
    "\n",
    "quarterlyDataFields = ['CRDQUSAPABIS', 'Total Credit Non-Financial']    \n",
    "\n",
    "rawMacroData = pdata.get_data_fred(dataFields, macroStartDate)\n",
    "macroData = rawMacroData.copy()"
   ]
  },
  {
   "cell_type": "code",
   "execution_count": 4,
   "metadata": {
    "collapsed": false
   },
   "outputs": [],
   "source": [
    "# Get GDP data and fill in divisors\n",
    "gdp_data = pdata.get_data_fred('GDPC1', macroStartDate)\n",
    "macroData['GDP'] = gdp_data\n",
    "macroData['GDP'] = macroData['GDP'].fillna(method='ffill')\n",
    "macroData['GDP'] = macroData['GDP'].fillna(method='bfill')"
   ]
  },
  {
   "cell_type": "code",
   "execution_count": 5,
   "metadata": {
    "collapsed": true
   },
   "outputs": [],
   "source": [
    "# filling in data\n",
    "otherRetailSales = pdata.get_data_fred('RETAIL', macroStartDate)\n",
    "levelsRatio = otherRetailSales['RETAIL'] \\\n",
    "    [otherRetailSales.index == dt.datetime(1992, 1, 1)] \\\n",
    "    / macroData['RSXFS'][macroData.index == dt.datetime(1992, 1, 1)][0]\n",
    "otherRetailSales = otherRetailSales['RETAIL'] / levelsRatio[0]\n",
    "macroData['DepreciatedRetail'] = otherRetailSales\n",
    "macroData['RSXFS'][np.isnan(macroData['RSXFS'])] \\\n",
    "    = macroData['DepreciatedRetail'][np.isnan(macroData['RSXFS'])]\n",
    "del macroData['DepreciatedRetail']"
   ]
  },
  {
   "cell_type": "code",
   "execution_count": 6,
   "metadata": {
    "collapsed": true
   },
   "outputs": [],
   "source": [
    "# claims data\n",
    "# claims = pdata.get_data_fred('IC4WSA', macroStartDate)\n",
    "# claims = claims.resample('M')\n",
    "# claims.index = claims.index + pd.tseries.offsets.BDay(1)\n",
    "# tmp = []\n",
    "# for t in range(0, len(claims)):\n",
    "#     tmp.append(dt.datetime(claims.index[t].year, claims.index[t].month, 1))\n",
    "# claims.index = pd.DatetimeIndex(tmp)\n",
    "# macroData['Claims'] = claims\n",
    "# dataFields_ = list(dataFields)\n",
    "# dataFields_.append('Claims')\n",
    "# dataFieldNames_ = list(dataFieldNames)\n",
    "# dataFieldNames_.append('Jobless Claims')"
   ]
  },
  {
   "cell_type": "code",
   "execution_count": 7,
   "metadata": {
    "collapsed": true
   },
   "outputs": [],
   "source": [
    "# manual override \n",
    "macroData['UMCSENT'][macroData.index == dt.datetime(2015, 8, 1)] = 91.9\n",
    "macroData['UMCSENT'][macroData.index == dt.datetime(2015, 9, 1)] = 87.2\n",
    "macroData['UMCSENT'][macroData.index == dt.datetime(2015, 10, 1)] = 90.0\n",
    "macroData['UMCSENT'][macroData.index == dt.datetime(2015, 11, 1)] = 91.3\n",
    "macroData['UMCSENT'][macroData.index == dt.datetime(2015, 12, 1)] = 92.6\n",
    "\n",
    "tmp = macroData['DTBTM'][macroData.index == dt.datetime(2015, 10, 1)]\n",
    "macroData['DTBTM'][macroData.index == dt.datetime(2015, 11, 1)] = tmp[0] \n",
    "\n",
    "macroData['DTBTM'][macroData.index == dt.datetime(2015, 12, 1)] \\\n",
    "    = macroData['DTBTM'][macroData.index == dt.datetime(2015, 11, 1)][0]\n",
    "# macroData['TTLCONS'][macroData.index == dt.datetime(2015, 12, 01)] = \n",
    "# macroData['TTLCONS'][macroData.index == dt.datetime(2015, 11, 01)][0]"
   ]
  },
  {
   "cell_type": "code",
   "execution_count": 16,
   "metadata": {
    "collapsed": false
   },
   "outputs": [],
   "source": [
    "series_start_dates = pd.DataFrame(index=dataFields, columns=['date'])\n",
    "for dataField in dataFields:\n",
    "    series_start_dates.loc[dataField] = macroData[dataField] \\\n",
    "    [np.isfinite(macroData[dataField])].index.min()"
   ]
  },
  {
   "cell_type": "code",
   "execution_count": 8,
   "metadata": {
    "collapsed": false
   },
   "outputs": [],
   "source": [
    "# Get LEI\n",
    "\n",
    "leiData = pdata.get_data_fred('USSLIND', startDate)\n",
    "\n",
    "# leiData.index = leiData.index + pd.tseries.offsets.BDay(1)\n",
    "# leiData.index = leiData.index + pd.tseries.offsets.BDay(-1)\n",
    "\n",
    "# Recessions\n",
    "recessionData = pdata.get_data_fred('USRECD', startDateStr)\n",
    "recessionStartDates = []\n",
    "recessionEndDates = []\n",
    "for i in range(1, len(recessionData)):\n",
    "    if (recessionData.values[i][0] == 0) & (recessionData.values[i-1][0] == 1):\n",
    "        recessionEndDates.append(recessionData.index[i])    \n",
    "    elif (recessionData.values[i][0] == 1) & (recessionData.values[i-1][0] == 0):\n",
    "        recessionStartDates.append(recessionData.index[i])"
   ]
  },
  {
   "cell_type": "code",
   "execution_count": 9,
   "metadata": {
    "collapsed": false
   },
   "outputs": [],
   "source": [
    "##############################################################################\n",
    "# Constructing the factor model dataset\n",
    "##############################################################################\n",
    "\n",
    "seriesStartDate = []\n",
    "seriesEndDate = []\n",
    "for i in range(0, len(dataFields)):\n",
    "    if useLog[i] == 1:\n",
    "        macroData[dataFields[i]] = np.log(macroData[dataFields[i]])\n",
    "    if divGdp[i] == 1:\n",
    "        macroData[dataFields[i]] = macroData[dataFields[i]] / macroData['GDP']\n",
    "del macroData['GDP']\n",
    "\n",
    "macroData1d = macroData.diff(1)\n",
    "\n",
    "# manual override \n",
    "macroData1d['DTBTM'][macroData1d.index == dt.datetime(2010, 12, 1)] = -0.05\n",
    "\n",
    "macroData1d_3m = macroData1d.rolling(window=3, center=False).mean()\n",
    "macroData1d_6m = macroData1d.rolling(window=6, center=False).mean()\n",
    "macroData1d_ma = pd.DataFrame()\n",
    "for i in range(0, len(dataFieldNames)):\n",
    "    macroData1d_ma[dataFields[i]] = macroData1d[dataFields[i]] \\\n",
    "        .rolling(window=maLength[i], center=False).mean()\n",
    "    tmp = macroData1d_ma[dataFields[i]][~np.isnan(macroData1d_ma[dataFields[i]])]  \n",
    "    if len(tmp.index) > 0:\n",
    "        seriesStartDate.append(tmp.index[0])\n",
    "        seriesEndDate.append(tmp.index[len(tmp.index)-1])\n",
    "    else:\n",
    "        seriesStartDate.append(startDate)\n",
    "        seriesEndDate.append(dt.datetime.today())\n",
    "    \n",
    "commonStartDate = max(seriesStartDate)\n",
    "commonEndDate = min(seriesEndDate)"
   ]
  },
  {
   "cell_type": "code",
   "execution_count": 10,
   "metadata": {
    "collapsed": false
   },
   "outputs": [],
   "source": [
    ""
   ]
  },
  {
   "cell_type": "code",
   "execution_count": 10,
   "metadata": {
    "collapsed": false
   },
   "outputs": [
    {
     "data": {
      "text/plain": [
       "'WHLSLRSMSA ... Merchant Wholesalers Sales ... 12'"
      ]
     },
     "execution_count": 10,
     "metadata": {},
     "output_type": "execute_result"
    },
    {
     "data": {
      "image/png": "[encoded data removed]",
      "text/plain": [
       "<matplotlib.figure.Figure at 0x116d92150>"
      ]
     },
     "metadata": {},
     "output_type": "display_data"
    },
    {
     "data": {
      "image/png": "[encoded data removed]",
      "text/plain": [
       "<matplotlib.figure.Figure at 0x11700f810>"
      ]
     },
     "metadata": {},
     "output_type": "display_data"
    }
   ],
   "source": [
    "i=25\n",
    "fieldname = 'LNS12032197'\n",
    "fieldname = dataFields[i]\n",
    "plt.figure(1)\n",
    "plt.plot(macroData[fieldname])\n",
    "plt.figure(2)\n",
    "plt.plot(macroData1d_ma[fieldname])\n",
    "dataFields[i] + \" ... \" + dataFieldNames[i] + \" ... \" + str(maLength[i])"
   ]
  },
  {
   "cell_type": "code",
   "execution_count": 11,
   "metadata": {
    "collapsed": false
   },
   "outputs": [
    {
     "name": "stderr",
     "output_type": "stream",
     "text": [
      "/Users/benneifert/anaconda/envs/qfl_dev/lib/python2.7/site-packages/IPython/core/interactiveshell.py:2885: FutureWarning: The pandas.stats.ols module is deprecated and will be removed in a future version. We refer to external packages like statsmodels, see some examples here: http://statsmodels.sourceforge.net/stable/regression.html\n  exec(code_obj, self.user_global_ns, self.user_ns)\n"
     ]
    }
   ],
   "source": [
    "##############################################################################\n",
    "# Autoregression coefficients and trend coefficients\n",
    "##############################################################################\n",
    "\n",
    "reg_outputs = dict()\n",
    "ar1_coefs = np.zeros((len(dataFields), 5))\n",
    "predictedData = pd.DataFrame()\n",
    "cleanData = macroData1d_ma.copy()\n",
    "cleanData = cleanData[cleanData.index > commonStartDate]\n",
    "daysSinceStart = (macroData.index - macroData.index[0]).days\n",
    "daysSinceStartDf = pd.DataFrame(daysSinceStart)\n",
    "daysSinceStartDf.index = macroData.index\n",
    "for i in range(0, len(dataFields)):\n",
    "    \n",
    "    # Trend coefficients\n",
    "\n",
    "    tmp = pd.ols(y=macroData[dataFields[i]],\n",
    "                 x=daysSinceStartDf[0])\n",
    "    \n",
    "    tmp = pd.ols(y=macroData[dataFields[i]],\n",
    "                 x=macroData[dataFields[i]].shift(1))\n",
    "    ar1_coefs[i,0] = (tmp.beta['x'])\n",
    "    \n",
    "    tmp = pd.ols(y=macroData1d[dataFields[i]],\n",
    "                 x=macroData1d[dataFields[i]].shift(1))\n",
    "    ar1_coefs[i,1] = (tmp.beta['x'])\n",
    "    \n",
    "    tmp = pd.ols(y=macroData1d_3m[dataFields[i]],\n",
    "                 x=macroData1d_3m[dataFields[i]].shift(1))\n",
    "    ar1_coefs[i,2] = (tmp.beta['x'])\n",
    "    \n",
    "    tmp = pd.ols(y=macroData1d_6m[dataFields[i]],\n",
    "                 x=macroData1d_6m[dataFields[i]].shift(1))\n",
    "    ar1_coefs[i,3] = (tmp.beta['x'])\n",
    "    \n",
    "    tmp = pd.ols(y=macroData1d_ma[dataFields[i]],\n",
    "                 x=macroData1d_ma[dataFields[i]].shift(1))\n",
    "    ar1_coefs[i,4] = (tmp.beta['x'])\n",
    "    \n",
    "ar1_coefs = pd.DataFrame(data=ar1_coefs,\n",
    "                         index=dataFields,\n",
    "                         columns=['levels', 'd1', 'd3', 'd6', 'dma'])\n",
    "ar1_coefs['ma_length'] = maLength"
   ]
  },
  {
   "cell_type": "code",
   "execution_count": 337,
   "metadata": {
    "collapsed": false
   },
   "outputs": [],
   "source": [
    "ar1_coefs"
   ]
  },
  {
   "cell_type": "code",
   "execution_count": 12,
   "metadata": {
    "collapsed": false
   },
   "outputs": [],
   "source": [
    "##############################################################################\n",
    "# Factor model\n",
    "##############################################################################\n",
    "\n",
    "num_factors = 4\n",
    "    \n",
    "pcaInd = (macroData1d_ma.index > commonStartDate) \\\n",
    "         & (macroData1d_ma.index <= commonEndDate)\n",
    "inSampleMeans = np.mean(macroData1d_ma[pcaInd])\n",
    "inSampleStdev= np.std(macroData1d_ma[pcaInd])\n",
    "inSampleZscores = (macroData1d_ma[pcaInd] - inSampleMeans) / inSampleStdev\n",
    "\n",
    "princomp = PCA(n_components = num_factors)\n",
    "\n",
    "pcaData = np.array(inSampleZscores)\n",
    "pcaDates = inSampleZscores.index\n",
    "s1 = princomp.fit(pcaData).transform(pcaData)\n",
    "eye = np.identity(pcaData.shape[1])\n",
    "w1 = princomp.fit(pcaData).transform(eye)\n",
    "components = pd.DataFrame(data=princomp.components_.transpose(),\n",
    "                          index=dataFieldNames)\n",
    "\n",
    "fa = FactorAnalysis(n_components = num_factors)\n",
    "f1 = fa.fit(pcaData)\n",
    "f2 = f1.transform(pcaData)\n",
    "w2 = f1.transform(eye)\n",
    "\n",
    "# rng = np.random.RandomState(42)\n",
    "# ica = FastICA(random_state=rng)\n",
    "# s2 = ica.fit(pcaData).transform(pcaData)  \n",
    "\n",
    "# Factors dataset\n",
    "pcaFactors = pd.DataFrame(s1)\n",
    "pcaFactors.index = pcaDates\n",
    "\n",
    "# Reverse factor direction if off\n",
    "\n",
    "# F1 is growth\n",
    "if components.loc['Unemployment Rate', 0] > 0:\n",
    "    components[0] = -components[0]\n",
    "    pcaFactors[0] = -pcaFactors[0]\n",
    "    \n",
    "# F2 is inflation/credit\n",
    "if components.loc['Total Consumer Credit', 1] < 0:\n",
    "    components[1] = -components[1]\n",
    "    pcaFactors[1] = -pcaFactors[1]\n",
    "    \n",
    "# F3 is real estate\n",
    "if components.loc['Total Construction Spending', 2] < 0:\n",
    "    components[2] = -components[2]\n",
    "    pcaFactors[2] = -pcaFactors[2]\n",
    "    \n",
    "# F4 is the labor market\n",
    "if components.loc['Unemployment Rate', 3] > 0:\n",
    "    components[3] = -components[3]\n",
    "    pcaFactors[3] = -pcaFactors[3]"
   ]
  },
  {
   "cell_type": "code",
   "execution_count": 14,
   "metadata": {
    "collapsed": false
   },
   "outputs": [
    {
     "data": {
      "image/png": "[encoded data removed]",
      "text/plain": [
       "<matplotlib.figure.Figure at 0x11700f610>"
      ]
     },
     "metadata": {},
     "output_type": "display_data"
    }
   ],
   "source": [
    "fig = plt.figure(figsize=[10, 6])\n",
    "plot_var = pcaFactors.rolling(window=1, center=False).sum()\n",
    "plt.plot(plot_var / plot_var.std())\n",
    "plt.legend(['Growth', 'Inflation/Credit', 'Real Estate', 'Labor Market'], loc=3)\n",
    "plt.ylim([-4, 3])\n",
    "plt.savefig('factor_model.png')"
   ]
  },
  {
   "cell_type": "code",
   "execution_count": 24,
   "metadata": {
    "collapsed": true
   },
   "outputs": [],
   "source": [
    "# Get S&P 500 data\n",
    "sp500 = pdata.DataReader('^GSPC',\n",
    "                         data_source='yahoo',\n",
    "                         start=startDateStr,\n",
    "                         end=dt.datetime.today())\n",
    "sp500 = sp500['Adj Close']\n",
    "sp500_returns = np.log(sp500) - np.log(sp500).shift(1)\n",
    "\n",
    "if exclude87:\n",
    "    sp500_returns[(sp500_returns.index >= excludeStartDate)\n",
    "                  & (sp500_returns.index <= excludeEndDate)] = 0\n",
    "\n",
    "vol_windows = [21, 63, 126, 252]\n",
    "variableNames =[]\n",
    "sp500_volatility = pd.DataFrame()\n",
    "sp500_volatility_lead = pd.DataFrame()\n",
    "for i in range(0, len(vol_windows)):\n",
    "    variableNames.append('Volatility' + str(vol_windows[i]))\n",
    "    sp500_volatility[variableNames[i]] =  np.sqrt(252.0 \n",
    "        * sp500_returns.rolling(window=vol_windows[i],\n",
    "                                center=False).var())\n",
    "    sp500_volatility_lead[variableNames[i]] = sp500_volatility[\n",
    "        variableNames[i]].shift(-vol_windows[i])\n",
    "\n",
    "indVars = pd.DataFrame()\n",
    "indVars['Volatility21'] = sp500_volatility['Volatility21']\n",
    "indVars['Volatility63'] = sp500_volatility['Volatility63']\n",
    "indVars['Volatility252'] = sp500_volatility['Volatility252']\n",
    "\n",
    "capFactor = 2.5\n",
    "sp500_returns_capped = sp500_returns.copy()\n",
    "ind = (np.abs(sp500_returns) > capFactor * indVars['Volatility252'] / np.sqrt(252))\n",
    "sp500_returns_capped[ind] = np.sign(sp500_returns[ind]) \\\n",
    "    * capFactor * indVars['Volatility252'] / np.sqrt(252)\n",
    "\n",
    "variableNames = []\n",
    "sp500_volatility_c = pd.DataFrame()\n",
    "sp500_volatility_lead_c = pd.DataFrame()\n",
    "for i in range(0, len(vol_windows)):\n",
    "    variableNames.append('Volatility' + str(vol_windows[i]))\n",
    "    sp500_volatility_c[variableNames[i]] = np.sqrt(252.0 \n",
    "        * sp500_returns_capped.rolling(window=vol_windows[i],\n",
    "                                       center=False).var())\n",
    "    sp500_volatility_lead_c[variableNames[i]] =\\\n",
    "        sp500_volatility[variableNames[i]].shift(-vol_windows[i])"
   ]
  },
  {
   "cell_type": "code",
   "execution_count": 123,
   "metadata": {
    "collapsed": true
   },
   "outputs": [],
   "source": [
    "##############################################################################\n",
    "# Data aggregation\n",
    "##############################################################################\n",
    "\n",
    "# Assign zeros to recession dates since last data point\n",
    "tmpDt = recessionData.index[len(recessionData)-1]\n",
    "df = pd.DataFrame(sp500.index[sp500.index > tmpDt])\n",
    "df.index = sp500.index[sp500.index > tmpDt]\n",
    "df['USRECD'] = 0\n",
    "del df['Date']\n",
    "recessionData = pd.DataFrame.append(recessionData, df)\n",
    "\n",
    "# choice of macro data variable\n",
    "macroIndicator = leiData.copy()\n",
    "\n",
    "indVarsDf = pd.DataFrame()\n",
    "indVarsDf[0] = sp500_volatility_c[volatilityIndicator].copy()\n",
    "# indVarsDf[1] = sp500_volatility_c['Volatility63']\n",
    "# indVarsDf[2] = sp500_volatility_c['Volatility252']\n",
    "\n",
    "volAcReg = pd.ols(y=sp500_volatility_lead_c[volatilityIndicator],\n",
    "                  x=indVarsDf)\n",
    "residualVolatility = volAcReg.resid\n",
    "\n",
    "volAcRegOverlap = pd.ols(y=sp500_volatility_lead_c[volatilityIndicator],\n",
    "                         x=sp500_volatility_lead_c[volatilityIndicator].shift(21))\n",
    "residualVolatilityOverlap = volAcRegOverlap.resid"
   ]
  },
  {
   "cell_type": "code",
   "execution_count": 124,
   "metadata": {
    "collapsed": false
   },
   "outputs": [],
   "source": [
    "# Nonparametric data structures\n",
    "\n",
    "npd = pd.DataFrame()\n",
    "npd['Volatility'] = sp500_volatility_lead_c[volatilityIndicator].copy()\n",
    "npd['ResidualVolatility'] = residualVolatility\n",
    "npd['ResidualVolatilityOverlap'] = residualVolatilityOverlap\n",
    "npd['TrailingVolatility'] = sp500_volatility_c[volatilityIndicator].copy()\n",
    "# Make sure everything lines up on business days\n",
    "npd.index = npd.index + pd.tseries.offsets.BDay(0)\n",
    "# pcaFactors.index = pcaFactors.index + pd.tseries.offsets.BDay(0)\n",
    "npd['F1'] = macroIndicator\n",
    "\n",
    "# Reduce to monthly dataset\n",
    "npd = npd[~np.isnan(npd['F1'])]\n",
    "\n",
    "# Lags and changes\n",
    "macroIndicatorMa = macroIndicator.ewm(halflife=macroIndicatorHalflife,\n",
    "                                      ignore_na=True,\n",
    "                                      min_periods=0,\n",
    "                                      adjust=True).mean()\n",
    "npd['DF1'] = macroIndicatorMa - macroIndicatorMa.shift(macroIndicatorMaWindow)\n",
    "npd['LF1'] = macroIndicatorMa.shift(macroIndicatorMaWindow)\n",
    "npd['F1M'] = macroIndicatorMa\n",
    "\n",
    "# Zscores of lags and changes\n",
    "npd['ZDF1'] = (npd['DF1'] - npd['DF1'].mean()) / npd['DF1'].std()\n",
    "npd['ZLF1'] = (npd['LF1'] - npd['LF1'].mean()) / npd['LF1'].std()\n",
    "npd['ZF1M'] = (npd['F1M'] - npd['F1M'].mean()) / npd['F1M'].std()\n",
    "\n",
    "macroIndicatorMa12 = macroIndicator.rolling(window=12, center=False).sum()\n",
    "npd['F1M12'] = macroIndicatorMa12\n",
    "npd['F1M12Z'] = (macroIndicatorMa12 - macroIndicatorMa12.mean()) / macroIndicatorMa12.std()"
   ]
  },
  {
   "cell_type": "code",
   "execution_count": 125,
   "metadata": {
    "collapsed": false
   },
   "outputs": [],
   "source": [
    "##############################################################################\n",
    "# Nonparametric analysis\n",
    "##############################################################################\n",
    "\n",
    "# time weights for recency weighting\n",
    "npd['TimeWeights'] = np.exp(((npd.index - npd.index[len(npd.index)-1]).days\n",
    "                             / timeWeightParameter / 365.0))\n",
    "\n",
    "# Grid\n",
    "x = np.linspace(levelGridMin, levelGridMax, 20)\n",
    "y = np.linspace(changeGridMin, changeGridMax, 20)\n",
    "xv, yv = np.meshgrid(x, y)\n",
    "outGrid = [xv, yv]\n",
    "\n",
    "# International grid\n",
    "xvi, yvi = np.meshgrid(x, x)\n",
    "outGrid_i = [xvi, yvi]\n",
    "\n",
    "# nonparametric plot data (nppd)\n",
    "nppd = pd.DataFrame()\n",
    "# nppd['ZLF1'] = npd['ZLF1']\n",
    "nppd['ZF1M'] = npd['ZF1M']\n",
    "nppd['ZDF1'] = npd['ZDF1']\n",
    "indVar = np.array(nppd)\n",
    "depVar_res = np.array(npd['ResidualVolatility'])\n",
    "depVar_reso = np.array(npd['ResidualVolatilityOverlap'])\n",
    "depVar = np.array(npd['Volatility'])\n",
    "\n",
    "# Run nonparametric analysis\n",
    "bandwidth = 1\n",
    "predGrid = bu.npreg(depVar, indVar, outGrid, bandwidth, npd['TimeWeights'].values)   \n",
    "bandwidth = 1.5\n",
    "predGrid_res = bu.npreg(depVar_res, indVar, outGrid, bandwidth, npd['TimeWeights'].values)\n",
    "bandwidth = 1.5\n",
    "predGrid_reso = bu.npreg(depVar_reso, indVar, outGrid, bandwidth, npd['TimeWeights'].values)\n",
    "# bandwidth = 1\n",
    "# predGrid_int = bu.npreg(depVar, indVar_int, outGrid_i, bandwidth, npd['TimeWeights'].values)\n",
    "\n",
    "# Get interpolation\n",
    "f = interpolate.interp2d(x, y, predGrid, kind='linear')\n",
    "f_res = interpolate.interp2d(x, y, predGrid_res, kind='linear')\n",
    "f_reso = interpolate.interp2d(x, y, predGrid_reso, kind='linear')\n",
    "# f_int = interpolate.interp2d(x, x, predGrid_int, kind='linear')"
   ]
  },
  {
   "cell_type": "code",
   "execution_count": 126,
   "metadata": {
    "collapsed": false
   },
   "outputs": [],
   "source": [
    "##############################################################################\n",
    "# Recession simulations\n",
    "##############################################################################\n",
    "\n",
    "# Generate simulations\n",
    "macroIndicatorSimData = macroIndicatorMa[macroIndicatorMa.index > simulationStartDate]  \n",
    "macroIndicatorSimPath = np.zeros([simPeriods, len(troughs)])\n",
    "for i in range(0, simPeriods):\n",
    "    for j in range(0, len(troughs)):\n",
    "        if i == 0:\n",
    "            macroIndicatorSimPath[i,j] = macroIndicatorSimData.values[len(macroIndicatorSimData)-1]\n",
    "        else:\n",
    "            if i <= lengths[j]:\n",
    "                a =  np.sin(phase + (i+1) * 2.0 * np.pi / lengths[j]) * troughs[j] / 2.0 - troughs[j]/2.0\n",
    "                b =  np.sin(phase+ (i) * 2.0 * np.pi / lengths[j]) * troughs[j] / 2.0 - troughs[j]/2.0\n",
    "                macroIndicatorSimPath[i,j] = macroIndicatorSimPath[i-1,j] + a - b\n",
    "            elif i <= 2 * lengths[j]:\n",
    "                macroIndicatorSimPath[i,j] = macroIndicatorSimPath[i-1,j]\n",
    "            else:\n",
    "                macroIndicatorSimPath[i,j] = macroIndicatorSimPath[i-1,j]"
   ]
  },
  {
   "cell_type": "code",
   "execution_count": 127,
   "metadata": {
    "collapsed": false
   },
   "outputs": [],
   "source": [
    "simDates = []\n",
    "simDates.append(simulationStartDate)\n",
    "for i in range(1, len(macroIndicatorSimData) + simPeriods):\n",
    "    simDates.append(simDates[i-1] + relativedelta(months=1))\n",
    "simDates = pd.DataFrame(index=simDates).index + pd.tseries.offsets.BDay(0)\n",
    "\n",
    "tmp = np.zeros([len(macroIndicatorSimData), 3])\n",
    "tmp[:,0] = macroIndicatorSimData.values[:,0]\n",
    "tmp[:,1] = macroIndicatorSimData.values[:,0]\n",
    "tmp[:,2] = macroIndicatorSimData.values[:,0]\n",
    "finalSimPath = np.vstack((tmp, macroIndicatorSimPath))\n",
    "finalSimPath = pd.DataFrame(finalSimPath)\n",
    "finalSimPath.index = simDates\n",
    "df1_path = finalSimPath - finalSimPath.shift(macroIndicatorMaWindow)\n",
    "f1_path = finalSimPath\n",
    "\n",
    "# vol_path =  np.zeros([len(finalSimPath), 3])\n",
    "# for i in range(0, len(finalSimPath)):\n",
    "#     for j in range(0, len(troughs)):\n",
    "#         if simDates[i] < dt.datetime.today():\n",
    "#         # if i < len(macroIndicatorSimData):\n",
    "#             if simDates[i] in sp500_volatility.index:\n",
    "#             #vol_path[i,j] = npd['TrailingVolatility'][macroIndicatorSimData.index[i]]\n",
    "#                 useDate = simDates[i]\n",
    "#                 vol_path[i,j] = sp500_volatility[volatilityIndicator][useDate] \n",
    "#             elif workdays.workday(simDates[i], 1) in sp500_volatility.index:\n",
    "#                 useDate = workdays.workday(simDates[i], 1)\n",
    "#                 vol_path[i,j] = sp500_volatility[volatilityIndicator][useDate] \n",
    "#             elif workdays.workday(simDates[i], -1) in sp500_volatility.index:\n",
    "#                 useDate = workdays.workday(simDates[i], -1)\n",
    "#                 vol_path[i,j] = sp500_volatility[volatilityIndicator][useDate] \n",
    "#             elif workdays.workday(simDates[i], 2) in sp500_volatility.index:\n",
    "#                 useDate = workdays.workday(simDates[i], 2)\n",
    "#                 vol_path[i,j] = sp500_volatility[volatilityIndicator][useDate] \n",
    "#             elif workdays.workday(simDates[i], -2) in sp500_volatility.index:\n",
    "#                 useDate = workdays.workday(simDates[i], -2)\n",
    "#                 vol_path[i,j] = sp500_volatility[volatilityIndicator][useDate] \n",
    "#         else:\n",
    "#             vol_path[i,j] = volAcRegOverlap.beta.intercept + (volAcRegOverlap.beta[0] - 0.01) * vol_path[i-1,j] \n",
    "#             + f_res(f1_path[j][i], df1_path[j][i]) / (volatilityWindow / 21 / 6)"
   ]
  },
  {
   "cell_type": "code",
   "execution_count": 128,
   "metadata": {
    "collapsed": false
   },
   "outputs": [],
   "source": [
    "##############################################################################\n",
    "# Recession probabiliy  \n",
    "############################################################################## \n",
    "\n",
    "\n",
    "# Logit for probability of recession\n",
    "\n",
    "r2 = []\n",
    "ll = []\n",
    "recessionProbs = pd.DataFrame()\n",
    "recessionProbs['Date'] = macroIndicator.index\n",
    "recessionProbs.index = macroIndicator.index\n",
    "\n",
    "recessionInWindow = pd.DataFrame(recessionProbs['Date'])\n",
    "recessionPredictionWindow = 252   \n",
    "tmp = recessionData.rolling(window=recessionPredictionWindow, center=False).sum()\n",
    "tmp2 = tmp.shift(-recessionPredictionWindow)\n",
    "recessionInWindow['RIW'] = np.minimum(1, tmp2)\n",
    "windows = [1, 3, 6, 9, 12, 18, 24]\n",
    "halflifes = [0.5, 1, 2, 3, 6, 9, 12]\n",
    "logits = []\n",
    "regs = []\n",
    "\n",
    "for i in range(0, len(windows)):\n",
    "    \n",
    "    logitIv = pd.DataFrame(recessionData.index)\n",
    "    logitIv.index = recessionData.index\n",
    "    logitIv['Recession'] = recessionData\n",
    "    logitIv['RecessionInWindow'] = recessionInWindow['RIW']\n",
    "    windowMa = macroIndicator.ewm(halflife=halflifes[i], ignore_na=False, min_periods=0, adjust=True).mean()\n",
    "    logitIv['F1M'] = windowMa.copy()\n",
    "    logitIv['LF1'] = windowMa.shift(windows[i])\n",
    "    logitIv['DF1'] = windowMa.diff(halflifes[i] * 2)\n",
    "    logitIv['INT'] = logitIv['F1M'] * logitIv['DF1']\n",
    "    logitIv = logitIv[(~np.isnan(logitIv['DF1'])) & (~np.isnan(logitIv['F1M']))]\n",
    "    logitIv['RecessionInWindow'][np.isnan(logitIv['RecessionInWindow'])] = 0\n",
    "    tmp = sm.Logit(logitIv['RecessionInWindow'], logitIv[['F1M', 'DF1', 'INT']])\n",
    "    result = tmp.fit()\n",
    "    predictions = result.fittedvalues[~np.isnan(result.fittedvalues)]\n",
    "    logits.append(result)\n",
    "    \n",
    "    ll.append(result.llr)\n",
    "    recessionProbs[str(i)] = np.exp(predictions) / (1 + np.exp(predictions))\n",
    "    \n",
    "    # not really logit, but convenient\n",
    "    logitIv['Volatility'] = npd['Volatility']\n",
    "    logitIv['Volatility_Lag'] = logitIv['Volatility'].shift(volatilityWindow / 21)\n",
    "    logitIv = logitIv[(~np.isnan(logitIv['Volatility'])) & (~np.isnan(logitIv['Volatility_Lag'])) ]\n",
    "    tmp = sm.OLS(logitIv['Volatility'], logitIv['Volatility_Lag'] )\n",
    "    result = tmp.fit()\n",
    "    logitIv['Volatility_Res'] = result.resid\n",
    "    logitIv = logitIv[~np.isnan(logitIv['Volatility_Res'])]\n",
    "    # logitIv = logitIv[~np.isnan(logitIv['Volatility'])]\n",
    "    tmp = sm.OLS(logitIv['Volatility_Res'], logitIv[['LF1', 'DF1', 'INT']])\n",
    "    # tmp = sm.OLS(logitIv['Volatility'], logitIv[['LF1', 'DF1', 'INT']])\n",
    "    result = tmp.fit()\n",
    "    r2.append(result.rsquared)\n",
    "    regs.append(result)"
   ]
  },
  {
   "cell_type": "code",
   "execution_count": 130,
   "metadata": {
    "collapsed": false
   },
   "outputs": [],
   "source": [
    "recessionProbs['Weighted'] = 0\n",
    "for i in range(0, len(windows)):    \n",
    "    recessionProbs['Weighted'] = recessionProbs['Weighted'] + recessionProbs[str(i)]  * ll[i] / np.sum(ll)\n",
    "# del recessionProbs['Date']"
   ]
  },
  {
   "cell_type": "code",
   "execution_count": 59,
   "metadata": {
    "collapsed": false
   },
   "outputs": [],
   "source": [
    "##############################################################################\n",
    "# Plotting\n",
    "##############################################################################\n",
    "\n",
    "currentDate = npd.index[len(npd.index)-1]\n",
    "currentLevel = npd['ZF1M'][currentDate]\n",
    "currentChange = npd['ZDF1'][currentDate]\n",
    "\n",
    "# Transparent colormap\n",
    "theCM = cm.get_cmap()\n",
    "theCM._init()\n",
    "alphas = np.abs(np.linspace(-1.0, 1.0, theCM.N))\n",
    "theCM._lut[:-3,-1] = alphas\n",
    "\n",
    "indVar = np.array(nppd)\n",
    "depVar = np.array(npd['Volatility'])\n",
    "\n",
    "# Figure 1: nonparametric \n",
    "fig = plt.figure(figsize=(16,8))\n",
    "ax = fig.gca(projection='3d')\n",
    "# scat = ax.scatter(indVar[:,0], indVar[:,1], depVar * 100.0, c = 'r')\n",
    "scat = ax.scatter(currentLevel,\n",
    "                  currentChange,\n",
    "                  f(currentLevel, currentChange) * 100 + 2,\n",
    "                  c = 'k',\n",
    "                  s = 200,\n",
    "                  zorder=10)\n",
    "surf = ax.plot_surface(outGrid[0], outGrid[1], predGrid * 100.0, \n",
    "                       rstride=1, cstride=1, cmap=theCM,\n",
    "                       linewidth=0, antialiased=False, zorder = 0)\n",
    "ax.set_xlabel('F1')\n",
    "ax.set_ylabel('Change in F1')\n",
    "ax.set_zlabel('S&P realized volatility, next 1y')\n",
    "ax.set_title('Subsequent 1y S&P realized volatility, versus Z-scores of level and change of US macro index')\n",
    "ax.set_zlim([10, 35])\n",
    "fmt = '%.0f%%' \n",
    "zticks = mtick.FormatStrFormatter(fmt)\n",
    "ax.zaxis.set_major_formatter(zticks)\n",
    "fig.colorbar(surf, shrink=0.5, aspect=5)\n",
    "# plt.axis([-6, 3, -6, 3, 10, 30])\n",
    "ax.view_init(30, 30)"
   ]
  },
  {
   "cell_type": "code",
   "execution_count": 132,
   "metadata": {
    "collapsed": false
   },
   "outputs": [],
   "source": [
    "# Figure 3: sustained market volatility is typically associated\n",
    "# with economic downturns\n",
    "fig = plt.figure(figsize=(14,8))\n",
    "ax1 = plt.gca()\n",
    "ax2 = ax1.twinx()\n",
    "plt.title('The US Economic Cycle and S&P-500 Realized Volatility')\n",
    "plt.axis('normal')\n",
    "ax1.plot(sp500_volatility['Volatility252'] * 100, 'b',linewidth=1.5)\n",
    "# ax2.plot(-pd.rolling_sum(leiData, window=macroIndicatorMaWindow), 'g',linewidth=1.5)\n",
    "ax2.plot(-npd['ZF1M'], 'g', linewidth = 1.5)\n",
    "# ax2.plot(-npd['F1M12Z'], 'g', linewidth = 1.5)\n",
    "ax1.set_ylabel(\"1y realized volatility, S&P 500\",fontsize=12,color='blue')\n",
    "ax2.set_ylabel(\"US macro index Z-score, inverted\",fontsize=12,color='green')\n",
    "ax1.set_ylim([0.0, 50])\n",
    "# ax2.set_ylim([-3, 5])\n",
    "ax1.grid(True)\n",
    "for i in range(0, len(recessionStartDates)):\n",
    "    a = recessionStartDates[i]\n",
    "    b = recessionEndDates[i]\n",
    "    plt.axvspan(a, b, color='grey', alpha=0.5, lw=0)\n",
    "plt.show()"
   ]
  },
  {
   "cell_type": "code",
   "execution_count": 64,
   "metadata": {
    "collapsed": false
   },
   "outputs": [],
   "source": [
    "# Figure 3b: where are we at now?\n",
    "plotStartDate = dt.datetime(1998, 1, 1)\n",
    "fig = plt.figure(figsize=(14,8))\n",
    "ax = plt.gca()\n",
    "plt.title('Most recent two cycles')\n",
    "plt.axis('normal')\n",
    "ax.plot(npd['ZF1M'][npd.index > plotStartDate], 'g',linewidth=1.5)\n",
    "ax.plot(npd['ZDF1'][npd.index > plotStartDate], 'k',linewidth=1.5)\n",
    "ax.set_ylabel(\"Z-scores\",fontsize=12,color='green')\n",
    "ax.grid(True)\n",
    "for i in range(0, len(recessionStartDates)):\n",
    "    if recessionStartDates[i] > plotStartDate:\n",
    "        a = recessionStartDates[i]\n",
    "        b = recessionEndDates[i]\n",
    "        plt.axvspan(a, b, color='grey', alpha=0.5, lw=0)\n",
    "ax.set_ylim([-5, 5])\n",
    "plt.legend(['Level Z', 'Change Z'])\n",
    "plt.show()"
   ]
  },
  {
   "cell_type": "code",
   "execution_count": 66,
   "metadata": {
    "collapsed": false
   },
   "outputs": [],
   "source": [
    "# Figure 9:  \n",
    "fig = plt.figure(figsize=(14,8))\n",
    "ax = fig.gca()\n",
    "plt.plot(recessionProbs['Weighted'])\n",
    "ax.set_ylabel(\"Predicted probability of recession in next 12 months\",fontsize=12,color='green')  \n",
    "ax.grid(True)\n",
    "for i in range(0, len(recessionStartDates)):\n",
    "    a = recessionStartDates[i]\n",
    "    b = recessionEndDates[i]\n",
    "    plt.axvspan(a, b, color='grey', alpha=0.5, lw=0)\n",
    "plt.show()"
   ]
  },
  {
   "cell_type": "code",
   "execution_count": null,
   "metadata": {},
   "outputs": [],
   "source": [
    ""
   ]
  }
 ],
 "metadata": {
  "kernelspec": {
   "display_name": "Python 2",
   "language": "python",
   "name": "python2"
  },
  "language_info": {
   "codemirror_mode": {
    "name": "ipython",
    "version": 2.0
   },
   "file_extension": ".py",
   "mimetype": "text/x-python",
   "name": "python",
   "nbconvert_exporter": "python",
   "pygments_lexer": "ipython2",
   "version": "2.7.11"
  }
 },
 "nbformat": 4,
 "nbformat_minor": 0
}